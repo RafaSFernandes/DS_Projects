{
  "nbformat": 4,
  "nbformat_minor": 0,
  "metadata": {
    "colab": {
      "provenance": [],
      "mount_file_id": "1p0UccTwWVH0b58n3aPOuj9AWO7keEJua",
      "authorship_tag": "ABX9TyPERfZf9YAhReWPY/2LUFOT",
      "include_colab_link": true
    },
    "kernelspec": {
      "name": "python3",
      "display_name": "Python 3"
    },
    "language_info": {
      "name": "python"
    }
  },
  "cells": [
    {
      "cell_type": "markdown",
      "metadata": {
        "id": "view-in-github",
        "colab_type": "text"
      },
      "source": [
        "<a href=\"https://colab.research.google.com/github/RafaSFernandes/DS_Projects/blob/main/M09_2_Estudos_sobre_Regress%C3%A3o.ipynb\" target=\"_parent\"><img src=\"https://colab.research.google.com/assets/colab-badge.svg\" alt=\"Open In Colab\"/></a>"
      ]
    },
    {
      "cell_type": "markdown",
      "source": [
        "Escola DNC\n",
        "\n",
        "Aluno: Rafael Souza Fernandes\n",
        "\n",
        "Material de estudo"
      ],
      "metadata": {
        "id": "tPDj4PfSaLgg"
      }
    },
    {
      "cell_type": "markdown",
      "source": [
        "# Materia 09 (p.2)\n",
        "Modelos de Classificação e Regressão"
      ],
      "metadata": {
        "id": "6LyqR9uHaOo8"
      }
    },
    {
      "cell_type": "markdown",
      "source": [
        "#Bibliotecas"
      ],
      "metadata": {
        "id": "1qpXBDN1_EKG"
      }
    },
    {
      "cell_type": "code",
      "source": [
        "import pandas as pd\n",
        "from datetime import datetime\n",
        "\n",
        "from sklearn.model_selection import train_test_split\n",
        "from sklearn.ensemble import RandomForestClassifier\n",
        "from sklearn.metrics import classification_report\n",
        "\n",
        "from imblearn.over_sampling import RandomOverSampler\n",
        "from imblearn.under_sampling import RandomUnderSampler"
      ],
      "metadata": {
        "id": "Cv8VXhf__GkV"
      },
      "execution_count": 88,
      "outputs": []
    },
    {
      "cell_type": "markdown",
      "source": [
        "#1. Importando Dados"
      ],
      "metadata": {
        "id": "z1j5edYq_vut"
      }
    },
    {
      "cell_type": "code",
      "execution_count": 66,
      "metadata": {
        "id": "yAzqFlSHaKb4",
        "colab": {
          "base_uri": "https://localhost:8080/"
        },
        "outputId": "2923b8a0-3faa-4875-ff51-4a6ef218f333"
      },
      "outputs": [
        {
          "output_type": "stream",
          "name": "stdout",
          "text": [
            "Drive already mounted at /content/drive; to attempt to forcibly remount, call drive.mount(\"/content/drive\", force_remount=True).\n"
          ]
        }
      ],
      "source": [
        "#montagem do drive\n",
        "from google.colab import drive\n",
        "drive.mount('/content/drive')"
      ]
    },
    {
      "cell_type": "code",
      "source": [
        "#caminho da pasta do arquivo\n",
        "path = \"/content/drive/MyDrive/Datasets_Modulos/Materia_09/\"\n",
        "filename = \"US_Accidents.csv\" #nome do arquivo"
      ],
      "metadata": {
        "id": "wyVxuERw_ofj"
      },
      "execution_count": 67,
      "outputs": []
    },
    {
      "cell_type": "code",
      "source": [
        "#leitura do arquivo csv\n",
        "df = pd.read_csv(path + filename)"
      ],
      "metadata": {
        "colab": {
          "base_uri": "https://localhost:8080/"
        },
        "id": "AO4CtPSqAMz6",
        "outputId": "2ac8ebe5-ae92-4ed0-aacf-91557fae63f7"
      },
      "execution_count": 68,
      "outputs": [
        {
          "output_type": "stream",
          "name": "stderr",
          "text": [
            "/tmp/ipython-input-68-1088554273.py:2: DtypeWarning: Columns (30,31,32,33,34,35,36,37,38,39,40,41,42) have mixed types. Specify dtype option on import or set low_memory=False.\n",
            "  df = pd.read_csv(path + filename)\n"
          ]
        }
      ]
    },
    {
      "cell_type": "markdown",
      "source": [
        "#2. Tratamento (simplificado)"
      ],
      "metadata": {
        "id": "Li12_Kz9EB7Q"
      }
    },
    {
      "cell_type": "code",
      "source": [
        "#ajuste da coluna \"Star_Time\" para o tipo \"datetime\"\n",
        "df[\"Start_Time\"] = pd.to_datetime(df[\"Start_Time\"], format=\"%d-%m-%Y %H:%M\", errors=\"coerce\")"
      ],
      "metadata": {
        "id": "s6lYlxoEAdUE"
      },
      "execution_count": 69,
      "outputs": []
    },
    {
      "cell_type": "code",
      "source": [
        "#filtro de ocorrências de acidentes no ano de 2017\n",
        "df = df[df[\"Start_Time\"].dt.year.isin([2017])]"
      ],
      "metadata": {
        "id": "JggzGooTATlQ"
      },
      "execution_count": 70,
      "outputs": []
    },
    {
      "cell_type": "code",
      "source": [
        "#classificação de nível de \"High_Severity\" para casos com \"Severity\" maior ou igual a 3\n",
        "df[\"High_Severity\"] = df[\"Severity\"].apply(lambda x: 1 if x >= 3 else 0)"
      ],
      "metadata": {
        "id": "c1eLVn5TBMic"
      },
      "execution_count": 71,
      "outputs": []
    },
    {
      "cell_type": "code",
      "source": [
        "#verificando as dimensões do dataframe\n",
        "df.shape"
      ],
      "metadata": {
        "colab": {
          "base_uri": "https://localhost:8080/"
        },
        "id": "l6wO_SnrB_ON",
        "outputId": "8df14f03-84e5-4bf1-e7f4-f88102067d6e"
      },
      "execution_count": 72,
      "outputs": [
        {
          "output_type": "execute_result",
          "data": {
            "text/plain": [
              "(108008, 48)"
            ]
          },
          "metadata": {},
          "execution_count": 72
        }
      ]
    },
    {
      "cell_type": "code",
      "source": [
        "#verificando as primeiras linhas\n",
        "df.head()"
      ],
      "metadata": {
        "colab": {
          "base_uri": "https://localhost:8080/",
          "height": 585
        },
        "id": "XfDmGsFjBinb",
        "outputId": "6b7b9ff5-e2fb-48a1-ff43-bd555d049ab3"
      },
      "execution_count": 73,
      "outputs": [
        {
          "output_type": "execute_result",
          "data": {
            "text/plain": [
              "              ID  Severity          Start_Time          End_Time  Start_Lat  \\\n",
              "15249  A-2731849       2.0 2017-01-01 00:44:00  01-01-2017 06:57   41.65280   \n",
              "15250  A-2731850       2.0 2017-01-01 01:07:00  01-01-2017 07:07   30.02012   \n",
              "15251  A-2731851       2.0 2017-01-01 01:07:00  01-01-2017 07:07   30.02509   \n",
              "15252  A-2731852       3.0 2017-01-01 01:58:00  01-01-2017 07:58   32.78833   \n",
              "15253  A-2731853       3.0 2017-01-01 02:00:00  01-01-2017 08:00   32.76268   \n",
              "\n",
              "       Start_Lng    End_Lat    End_Lng  Distance(mi)  \\\n",
              "15249  -93.69785  41.649353 -93.697770         0.238   \n",
              "15250  -95.82565  30.019387 -95.823781         0.123   \n",
              "15251  -95.83735  30.020120 -95.825650         0.780   \n",
              "15252  -97.05835  32.809220 -97.054290         1.462   \n",
              "15253  -96.77526  32.724300 -96.762260         2.757   \n",
              "\n",
              "                                             Description  ...  Station   Stop  \\\n",
              "15249  Between I-35/I-80 and US-6/Douglas Ave - Accid...  ...    False  False   \n",
              "15250  Between Beginning of US-290 Freeway and Katy H...  ...    False  False   \n",
              "15251                           At Badtke Rd - Accident.  ...    False  False   \n",
              "15252  Between Post and Paddock Rd and Riverside Pky ...  ...    False  False   \n",
              "15253  Between Lamar St/Exit 283 and Overton Rd/Exit ...  ...    False  False   \n",
              "\n",
              "      Traffic_Calming Traffic_Signal Turning_Loop Sunrise_Sunset  \\\n",
              "15249           False           True        False          Night   \n",
              "15250           False          False        False          Night   \n",
              "15251           False          False        False          Night   \n",
              "15252           False          False        False          Night   \n",
              "15253           False          False        False          Night   \n",
              "\n",
              "      Civil_Twilight Nautical_Twilight  \\\n",
              "15249          Night             Night   \n",
              "15250          Night             Night   \n",
              "15251          Night             Night   \n",
              "15252          Night             Night   \n",
              "15253          Night             Night   \n",
              "\n",
              "      Astronomical_Twilight;;;;;;;;;;;;;;;;;;;;;;;;;;;;;;;;;;;;;;  \\\n",
              "15249        Night;;;;;;;;;;;;;;;;;;;;;;;;;;;;;;;;;;;;;;            \n",
              "15250        Night;;;;;;;;;;;;;;;;;;;;;;;;;;;;;;;;;;;;;;            \n",
              "15251        Night;;;;;;;;;;;;;;;;;;;;;;;;;;;;;;;;;;;;;;            \n",
              "15252        Night;;;;;;;;;;;;;;;;;;;;;;;;;;;;;;;;;;;;;;            \n",
              "15253        Night;;;;;;;;;;;;;;;;;;;;;;;;;;;;;;;;;;;;;;            \n",
              "\n",
              "      High_Severity  \n",
              "15249             0  \n",
              "15250             0  \n",
              "15251             0  \n",
              "15252             1  \n",
              "15253             1  \n",
              "\n",
              "[5 rows x 48 columns]"
            ],
            "text/html": [
              "\n",
              "  <div id=\"df-100f44ee-9553-4d27-a7fb-509a600bb48d\" class=\"colab-df-container\">\n",
              "    <div>\n",
              "<style scoped>\n",
              "    .dataframe tbody tr th:only-of-type {\n",
              "        vertical-align: middle;\n",
              "    }\n",
              "\n",
              "    .dataframe tbody tr th {\n",
              "        vertical-align: top;\n",
              "    }\n",
              "\n",
              "    .dataframe thead th {\n",
              "        text-align: right;\n",
              "    }\n",
              "</style>\n",
              "<table border=\"1\" class=\"dataframe\">\n",
              "  <thead>\n",
              "    <tr style=\"text-align: right;\">\n",
              "      <th></th>\n",
              "      <th>ID</th>\n",
              "      <th>Severity</th>\n",
              "      <th>Start_Time</th>\n",
              "      <th>End_Time</th>\n",
              "      <th>Start_Lat</th>\n",
              "      <th>Start_Lng</th>\n",
              "      <th>End_Lat</th>\n",
              "      <th>End_Lng</th>\n",
              "      <th>Distance(mi)</th>\n",
              "      <th>Description</th>\n",
              "      <th>...</th>\n",
              "      <th>Station</th>\n",
              "      <th>Stop</th>\n",
              "      <th>Traffic_Calming</th>\n",
              "      <th>Traffic_Signal</th>\n",
              "      <th>Turning_Loop</th>\n",
              "      <th>Sunrise_Sunset</th>\n",
              "      <th>Civil_Twilight</th>\n",
              "      <th>Nautical_Twilight</th>\n",
              "      <th>Astronomical_Twilight;;;;;;;;;;;;;;;;;;;;;;;;;;;;;;;;;;;;;;</th>\n",
              "      <th>High_Severity</th>\n",
              "    </tr>\n",
              "  </thead>\n",
              "  <tbody>\n",
              "    <tr>\n",
              "      <th>15249</th>\n",
              "      <td>A-2731849</td>\n",
              "      <td>2.0</td>\n",
              "      <td>2017-01-01 00:44:00</td>\n",
              "      <td>01-01-2017 06:57</td>\n",
              "      <td>41.65280</td>\n",
              "      <td>-93.69785</td>\n",
              "      <td>41.649353</td>\n",
              "      <td>-93.697770</td>\n",
              "      <td>0.238</td>\n",
              "      <td>Between I-35/I-80 and US-6/Douglas Ave - Accid...</td>\n",
              "      <td>...</td>\n",
              "      <td>False</td>\n",
              "      <td>False</td>\n",
              "      <td>False</td>\n",
              "      <td>True</td>\n",
              "      <td>False</td>\n",
              "      <td>Night</td>\n",
              "      <td>Night</td>\n",
              "      <td>Night</td>\n",
              "      <td>Night;;;;;;;;;;;;;;;;;;;;;;;;;;;;;;;;;;;;;;</td>\n",
              "      <td>0</td>\n",
              "    </tr>\n",
              "    <tr>\n",
              "      <th>15250</th>\n",
              "      <td>A-2731850</td>\n",
              "      <td>2.0</td>\n",
              "      <td>2017-01-01 01:07:00</td>\n",
              "      <td>01-01-2017 07:07</td>\n",
              "      <td>30.02012</td>\n",
              "      <td>-95.82565</td>\n",
              "      <td>30.019387</td>\n",
              "      <td>-95.823781</td>\n",
              "      <td>0.123</td>\n",
              "      <td>Between Beginning of US-290 Freeway and Katy H...</td>\n",
              "      <td>...</td>\n",
              "      <td>False</td>\n",
              "      <td>False</td>\n",
              "      <td>False</td>\n",
              "      <td>False</td>\n",
              "      <td>False</td>\n",
              "      <td>Night</td>\n",
              "      <td>Night</td>\n",
              "      <td>Night</td>\n",
              "      <td>Night;;;;;;;;;;;;;;;;;;;;;;;;;;;;;;;;;;;;;;</td>\n",
              "      <td>0</td>\n",
              "    </tr>\n",
              "    <tr>\n",
              "      <th>15251</th>\n",
              "      <td>A-2731851</td>\n",
              "      <td>2.0</td>\n",
              "      <td>2017-01-01 01:07:00</td>\n",
              "      <td>01-01-2017 07:07</td>\n",
              "      <td>30.02509</td>\n",
              "      <td>-95.83735</td>\n",
              "      <td>30.020120</td>\n",
              "      <td>-95.825650</td>\n",
              "      <td>0.780</td>\n",
              "      <td>At Badtke Rd - Accident.</td>\n",
              "      <td>...</td>\n",
              "      <td>False</td>\n",
              "      <td>False</td>\n",
              "      <td>False</td>\n",
              "      <td>False</td>\n",
              "      <td>False</td>\n",
              "      <td>Night</td>\n",
              "      <td>Night</td>\n",
              "      <td>Night</td>\n",
              "      <td>Night;;;;;;;;;;;;;;;;;;;;;;;;;;;;;;;;;;;;;;</td>\n",
              "      <td>0</td>\n",
              "    </tr>\n",
              "    <tr>\n",
              "      <th>15252</th>\n",
              "      <td>A-2731852</td>\n",
              "      <td>3.0</td>\n",
              "      <td>2017-01-01 01:58:00</td>\n",
              "      <td>01-01-2017 07:58</td>\n",
              "      <td>32.78833</td>\n",
              "      <td>-97.05835</td>\n",
              "      <td>32.809220</td>\n",
              "      <td>-97.054290</td>\n",
              "      <td>1.462</td>\n",
              "      <td>Between Post and Paddock Rd and Riverside Pky ...</td>\n",
              "      <td>...</td>\n",
              "      <td>False</td>\n",
              "      <td>False</td>\n",
              "      <td>False</td>\n",
              "      <td>False</td>\n",
              "      <td>False</td>\n",
              "      <td>Night</td>\n",
              "      <td>Night</td>\n",
              "      <td>Night</td>\n",
              "      <td>Night;;;;;;;;;;;;;;;;;;;;;;;;;;;;;;;;;;;;;;</td>\n",
              "      <td>1</td>\n",
              "    </tr>\n",
              "    <tr>\n",
              "      <th>15253</th>\n",
              "      <td>A-2731853</td>\n",
              "      <td>3.0</td>\n",
              "      <td>2017-01-01 02:00:00</td>\n",
              "      <td>01-01-2017 08:00</td>\n",
              "      <td>32.76268</td>\n",
              "      <td>-96.77526</td>\n",
              "      <td>32.724300</td>\n",
              "      <td>-96.762260</td>\n",
              "      <td>2.757</td>\n",
              "      <td>Between Lamar St/Exit 283 and Overton Rd/Exit ...</td>\n",
              "      <td>...</td>\n",
              "      <td>False</td>\n",
              "      <td>False</td>\n",
              "      <td>False</td>\n",
              "      <td>False</td>\n",
              "      <td>False</td>\n",
              "      <td>Night</td>\n",
              "      <td>Night</td>\n",
              "      <td>Night</td>\n",
              "      <td>Night;;;;;;;;;;;;;;;;;;;;;;;;;;;;;;;;;;;;;;</td>\n",
              "      <td>1</td>\n",
              "    </tr>\n",
              "  </tbody>\n",
              "</table>\n",
              "<p>5 rows × 48 columns</p>\n",
              "</div>\n",
              "    <div class=\"colab-df-buttons\">\n",
              "\n",
              "  <div class=\"colab-df-container\">\n",
              "    <button class=\"colab-df-convert\" onclick=\"convertToInteractive('df-100f44ee-9553-4d27-a7fb-509a600bb48d')\"\n",
              "            title=\"Convert this dataframe to an interactive table.\"\n",
              "            style=\"display:none;\">\n",
              "\n",
              "  <svg xmlns=\"http://www.w3.org/2000/svg\" height=\"24px\" viewBox=\"0 -960 960 960\">\n",
              "    <path d=\"M120-120v-720h720v720H120Zm60-500h600v-160H180v160Zm220 220h160v-160H400v160Zm0 220h160v-160H400v160ZM180-400h160v-160H180v160Zm440 0h160v-160H620v160ZM180-180h160v-160H180v160Zm440 0h160v-160H620v160Z\"/>\n",
              "  </svg>\n",
              "    </button>\n",
              "\n",
              "  <style>\n",
              "    .colab-df-container {\n",
              "      display:flex;\n",
              "      gap: 12px;\n",
              "    }\n",
              "\n",
              "    .colab-df-convert {\n",
              "      background-color: #E8F0FE;\n",
              "      border: none;\n",
              "      border-radius: 50%;\n",
              "      cursor: pointer;\n",
              "      display: none;\n",
              "      fill: #1967D2;\n",
              "      height: 32px;\n",
              "      padding: 0 0 0 0;\n",
              "      width: 32px;\n",
              "    }\n",
              "\n",
              "    .colab-df-convert:hover {\n",
              "      background-color: #E2EBFA;\n",
              "      box-shadow: 0px 1px 2px rgba(60, 64, 67, 0.3), 0px 1px 3px 1px rgba(60, 64, 67, 0.15);\n",
              "      fill: #174EA6;\n",
              "    }\n",
              "\n",
              "    .colab-df-buttons div {\n",
              "      margin-bottom: 4px;\n",
              "    }\n",
              "\n",
              "    [theme=dark] .colab-df-convert {\n",
              "      background-color: #3B4455;\n",
              "      fill: #D2E3FC;\n",
              "    }\n",
              "\n",
              "    [theme=dark] .colab-df-convert:hover {\n",
              "      background-color: #434B5C;\n",
              "      box-shadow: 0px 1px 3px 1px rgba(0, 0, 0, 0.15);\n",
              "      filter: drop-shadow(0px 1px 2px rgba(0, 0, 0, 0.3));\n",
              "      fill: #FFFFFF;\n",
              "    }\n",
              "  </style>\n",
              "\n",
              "    <script>\n",
              "      const buttonEl =\n",
              "        document.querySelector('#df-100f44ee-9553-4d27-a7fb-509a600bb48d button.colab-df-convert');\n",
              "      buttonEl.style.display =\n",
              "        google.colab.kernel.accessAllowed ? 'block' : 'none';\n",
              "\n",
              "      async function convertToInteractive(key) {\n",
              "        const element = document.querySelector('#df-100f44ee-9553-4d27-a7fb-509a600bb48d');\n",
              "        const dataTable =\n",
              "          await google.colab.kernel.invokeFunction('convertToInteractive',\n",
              "                                                    [key], {});\n",
              "        if (!dataTable) return;\n",
              "\n",
              "        const docLinkHtml = 'Like what you see? Visit the ' +\n",
              "          '<a target=\"_blank\" href=https://colab.research.google.com/notebooks/data_table.ipynb>data table notebook</a>'\n",
              "          + ' to learn more about interactive tables.';\n",
              "        element.innerHTML = '';\n",
              "        dataTable['output_type'] = 'display_data';\n",
              "        await google.colab.output.renderOutput(dataTable, element);\n",
              "        const docLink = document.createElement('div');\n",
              "        docLink.innerHTML = docLinkHtml;\n",
              "        element.appendChild(docLink);\n",
              "      }\n",
              "    </script>\n",
              "  </div>\n",
              "\n",
              "\n",
              "    <div id=\"df-6a46eff6-e432-41a2-840c-27de23284099\">\n",
              "      <button class=\"colab-df-quickchart\" onclick=\"quickchart('df-6a46eff6-e432-41a2-840c-27de23284099')\"\n",
              "                title=\"Suggest charts\"\n",
              "                style=\"display:none;\">\n",
              "\n",
              "<svg xmlns=\"http://www.w3.org/2000/svg\" height=\"24px\"viewBox=\"0 0 24 24\"\n",
              "     width=\"24px\">\n",
              "    <g>\n",
              "        <path d=\"M19 3H5c-1.1 0-2 .9-2 2v14c0 1.1.9 2 2 2h14c1.1 0 2-.9 2-2V5c0-1.1-.9-2-2-2zM9 17H7v-7h2v7zm4 0h-2V7h2v10zm4 0h-2v-4h2v4z\"/>\n",
              "    </g>\n",
              "</svg>\n",
              "      </button>\n",
              "\n",
              "<style>\n",
              "  .colab-df-quickchart {\n",
              "      --bg-color: #E8F0FE;\n",
              "      --fill-color: #1967D2;\n",
              "      --hover-bg-color: #E2EBFA;\n",
              "      --hover-fill-color: #174EA6;\n",
              "      --disabled-fill-color: #AAA;\n",
              "      --disabled-bg-color: #DDD;\n",
              "  }\n",
              "\n",
              "  [theme=dark] .colab-df-quickchart {\n",
              "      --bg-color: #3B4455;\n",
              "      --fill-color: #D2E3FC;\n",
              "      --hover-bg-color: #434B5C;\n",
              "      --hover-fill-color: #FFFFFF;\n",
              "      --disabled-bg-color: #3B4455;\n",
              "      --disabled-fill-color: #666;\n",
              "  }\n",
              "\n",
              "  .colab-df-quickchart {\n",
              "    background-color: var(--bg-color);\n",
              "    border: none;\n",
              "    border-radius: 50%;\n",
              "    cursor: pointer;\n",
              "    display: none;\n",
              "    fill: var(--fill-color);\n",
              "    height: 32px;\n",
              "    padding: 0;\n",
              "    width: 32px;\n",
              "  }\n",
              "\n",
              "  .colab-df-quickchart:hover {\n",
              "    background-color: var(--hover-bg-color);\n",
              "    box-shadow: 0 1px 2px rgba(60, 64, 67, 0.3), 0 1px 3px 1px rgba(60, 64, 67, 0.15);\n",
              "    fill: var(--button-hover-fill-color);\n",
              "  }\n",
              "\n",
              "  .colab-df-quickchart-complete:disabled,\n",
              "  .colab-df-quickchart-complete:disabled:hover {\n",
              "    background-color: var(--disabled-bg-color);\n",
              "    fill: var(--disabled-fill-color);\n",
              "    box-shadow: none;\n",
              "  }\n",
              "\n",
              "  .colab-df-spinner {\n",
              "    border: 2px solid var(--fill-color);\n",
              "    border-color: transparent;\n",
              "    border-bottom-color: var(--fill-color);\n",
              "    animation:\n",
              "      spin 1s steps(1) infinite;\n",
              "  }\n",
              "\n",
              "  @keyframes spin {\n",
              "    0% {\n",
              "      border-color: transparent;\n",
              "      border-bottom-color: var(--fill-color);\n",
              "      border-left-color: var(--fill-color);\n",
              "    }\n",
              "    20% {\n",
              "      border-color: transparent;\n",
              "      border-left-color: var(--fill-color);\n",
              "      border-top-color: var(--fill-color);\n",
              "    }\n",
              "    30% {\n",
              "      border-color: transparent;\n",
              "      border-left-color: var(--fill-color);\n",
              "      border-top-color: var(--fill-color);\n",
              "      border-right-color: var(--fill-color);\n",
              "    }\n",
              "    40% {\n",
              "      border-color: transparent;\n",
              "      border-right-color: var(--fill-color);\n",
              "      border-top-color: var(--fill-color);\n",
              "    }\n",
              "    60% {\n",
              "      border-color: transparent;\n",
              "      border-right-color: var(--fill-color);\n",
              "    }\n",
              "    80% {\n",
              "      border-color: transparent;\n",
              "      border-right-color: var(--fill-color);\n",
              "      border-bottom-color: var(--fill-color);\n",
              "    }\n",
              "    90% {\n",
              "      border-color: transparent;\n",
              "      border-bottom-color: var(--fill-color);\n",
              "    }\n",
              "  }\n",
              "</style>\n",
              "\n",
              "      <script>\n",
              "        async function quickchart(key) {\n",
              "          const quickchartButtonEl =\n",
              "            document.querySelector('#' + key + ' button');\n",
              "          quickchartButtonEl.disabled = true;  // To prevent multiple clicks.\n",
              "          quickchartButtonEl.classList.add('colab-df-spinner');\n",
              "          try {\n",
              "            const charts = await google.colab.kernel.invokeFunction(\n",
              "                'suggestCharts', [key], {});\n",
              "          } catch (error) {\n",
              "            console.error('Error during call to suggestCharts:', error);\n",
              "          }\n",
              "          quickchartButtonEl.classList.remove('colab-df-spinner');\n",
              "          quickchartButtonEl.classList.add('colab-df-quickchart-complete');\n",
              "        }\n",
              "        (() => {\n",
              "          let quickchartButtonEl =\n",
              "            document.querySelector('#df-6a46eff6-e432-41a2-840c-27de23284099 button');\n",
              "          quickchartButtonEl.style.display =\n",
              "            google.colab.kernel.accessAllowed ? 'block' : 'none';\n",
              "        })();\n",
              "      </script>\n",
              "    </div>\n",
              "\n",
              "    </div>\n",
              "  </div>\n"
            ],
            "application/vnd.google.colaboratory.intrinsic+json": {
              "type": "dataframe",
              "variable_name": "df"
            }
          },
          "metadata": {},
          "execution_count": 73
        }
      ]
    },
    {
      "cell_type": "code",
      "source": [
        "#verificando a proporção de casos de \"High_Severity\" no dataframe\n",
        "df[\"High_Severity\"].value_counts(normalize=True)"
      ],
      "metadata": {
        "colab": {
          "base_uri": "https://localhost:8080/",
          "height": 178
        },
        "id": "T5sq08C4Bozm",
        "outputId": "c1450acd-bbd3-4942-b9f2-a69a3f5ec8a4"
      },
      "execution_count": 74,
      "outputs": [
        {
          "output_type": "execute_result",
          "data": {
            "text/plain": [
              "High_Severity\n",
              "0    0.692745\n",
              "1    0.307255\n",
              "Name: proportion, dtype: float64"
            ],
            "text/html": [
              "<div>\n",
              "<style scoped>\n",
              "    .dataframe tbody tr th:only-of-type {\n",
              "        vertical-align: middle;\n",
              "    }\n",
              "\n",
              "    .dataframe tbody tr th {\n",
              "        vertical-align: top;\n",
              "    }\n",
              "\n",
              "    .dataframe thead th {\n",
              "        text-align: right;\n",
              "    }\n",
              "</style>\n",
              "<table border=\"1\" class=\"dataframe\">\n",
              "  <thead>\n",
              "    <tr style=\"text-align: right;\">\n",
              "      <th></th>\n",
              "      <th>proportion</th>\n",
              "    </tr>\n",
              "    <tr>\n",
              "      <th>High_Severity</th>\n",
              "      <th></th>\n",
              "    </tr>\n",
              "  </thead>\n",
              "  <tbody>\n",
              "    <tr>\n",
              "      <th>0</th>\n",
              "      <td>0.692745</td>\n",
              "    </tr>\n",
              "    <tr>\n",
              "      <th>1</th>\n",
              "      <td>0.307255</td>\n",
              "    </tr>\n",
              "  </tbody>\n",
              "</table>\n",
              "</div><br><label><b>dtype:</b> float64</label>"
            ]
          },
          "metadata": {},
          "execution_count": 74
        }
      ]
    },
    {
      "cell_type": "code",
      "source": [
        "#listando as colunas do df\n",
        "df.columns"
      ],
      "metadata": {
        "colab": {
          "base_uri": "https://localhost:8080/"
        },
        "id": "O1U8tPkXBwqr",
        "outputId": "cf0a872b-36c6-4877-c209-050d2087a268"
      },
      "execution_count": 75,
      "outputs": [
        {
          "output_type": "execute_result",
          "data": {
            "text/plain": [
              "Index(['ID', 'Severity', 'Start_Time', 'End_Time', 'Start_Lat', 'Start_Lng',\n",
              "       'End_Lat', 'End_Lng', 'Distance(mi)', 'Description', 'Number', 'Street',\n",
              "       'Side', 'City', 'County', 'State', 'Zipcode', 'Country', 'Timezone',\n",
              "       'Airport_Code', 'Weather_Timestamp', 'Temperature(F)', 'Wind_Chill(F)',\n",
              "       'Humidity(%)', 'Pressure(in)', 'Visibility(mi)', 'Wind_Direction',\n",
              "       'Wind_Speed(mph)', 'Precipitation(in)', 'Weather_Condition', 'Amenity',\n",
              "       'Bump', 'Crossing', 'Give_Way', 'Junction', 'No_Exit', 'Railway',\n",
              "       'Roundabout', 'Station', 'Stop', 'Traffic_Calming', 'Traffic_Signal',\n",
              "       'Turning_Loop', 'Sunrise_Sunset', 'Civil_Twilight', 'Nautical_Twilight',\n",
              "       'Astronomical_Twilight;;;;;;;;;;;;;;;;;;;;;;;;;;;;;;;;;;;;;;',\n",
              "       'High_Severity'],\n",
              "      dtype='object')"
            ]
          },
          "metadata": {},
          "execution_count": 75
        }
      ]
    },
    {
      "cell_type": "code",
      "source": [
        "#variáveis independentes (qual delas influenciou na ocorrência de acidente de severidade alta?)\n",
        "features = [\n",
        "    \"Start_Lat\",\n",
        "    \"Start_Lng\",\n",
        "    \"End_Lat\",\n",
        "    \"End_Lng\",\n",
        "    \"Distance(mi)\",\n",
        "    \"Temperature(F)\",\n",
        "    \"Wind_Chill(F)\",\n",
        "    \"Humidity(%)\",\n",
        "    \"Pressure(in)\",\n",
        "    \"Visibility(mi)\",\n",
        "    \"Wind_Speed(mph)\",\n",
        "    \"Precipitation(in)\"\n",
        "]"
      ],
      "metadata": {
        "id": "rWvsBVmkB00V"
      },
      "execution_count": 76,
      "outputs": []
    },
    {
      "cell_type": "code",
      "source": [
        "#definindo a variável \"target\"\n",
        "target = df.High_Severity"
      ],
      "metadata": {
        "id": "9-cdrE6_CRLf"
      },
      "execution_count": 77,
      "outputs": []
    },
    {
      "cell_type": "code",
      "source": [
        "#verificando dados nulos\n",
        "df[features].isnull().sum()"
      ],
      "metadata": {
        "colab": {
          "base_uri": "https://localhost:8080/",
          "height": 460
        },
        "id": "557YHi9VEgvQ",
        "outputId": "ef0c2c39-2b04-420d-d56c-8d3fd974fdba"
      },
      "execution_count": 78,
      "outputs": [
        {
          "output_type": "execute_result",
          "data": {
            "text/plain": [
              "Start_Lat                0\n",
              "Start_Lng                0\n",
              "End_Lat                  0\n",
              "End_Lng                  0\n",
              "Distance(mi)             0\n",
              "Temperature(F)        2262\n",
              "Wind_Chill(F)        88283\n",
              "Humidity(%)           2375\n",
              "Pressure(in)          1802\n",
              "Visibility(mi)        2628\n",
              "Wind_Speed(mph)      15976\n",
              "Precipitation(in)    92453\n",
              "dtype: int64"
            ],
            "text/html": [
              "<div>\n",
              "<style scoped>\n",
              "    .dataframe tbody tr th:only-of-type {\n",
              "        vertical-align: middle;\n",
              "    }\n",
              "\n",
              "    .dataframe tbody tr th {\n",
              "        vertical-align: top;\n",
              "    }\n",
              "\n",
              "    .dataframe thead th {\n",
              "        text-align: right;\n",
              "    }\n",
              "</style>\n",
              "<table border=\"1\" class=\"dataframe\">\n",
              "  <thead>\n",
              "    <tr style=\"text-align: right;\">\n",
              "      <th></th>\n",
              "      <th>0</th>\n",
              "    </tr>\n",
              "  </thead>\n",
              "  <tbody>\n",
              "    <tr>\n",
              "      <th>Start_Lat</th>\n",
              "      <td>0</td>\n",
              "    </tr>\n",
              "    <tr>\n",
              "      <th>Start_Lng</th>\n",
              "      <td>0</td>\n",
              "    </tr>\n",
              "    <tr>\n",
              "      <th>End_Lat</th>\n",
              "      <td>0</td>\n",
              "    </tr>\n",
              "    <tr>\n",
              "      <th>End_Lng</th>\n",
              "      <td>0</td>\n",
              "    </tr>\n",
              "    <tr>\n",
              "      <th>Distance(mi)</th>\n",
              "      <td>0</td>\n",
              "    </tr>\n",
              "    <tr>\n",
              "      <th>Temperature(F)</th>\n",
              "      <td>2262</td>\n",
              "    </tr>\n",
              "    <tr>\n",
              "      <th>Wind_Chill(F)</th>\n",
              "      <td>88283</td>\n",
              "    </tr>\n",
              "    <tr>\n",
              "      <th>Humidity(%)</th>\n",
              "      <td>2375</td>\n",
              "    </tr>\n",
              "    <tr>\n",
              "      <th>Pressure(in)</th>\n",
              "      <td>1802</td>\n",
              "    </tr>\n",
              "    <tr>\n",
              "      <th>Visibility(mi)</th>\n",
              "      <td>2628</td>\n",
              "    </tr>\n",
              "    <tr>\n",
              "      <th>Wind_Speed(mph)</th>\n",
              "      <td>15976</td>\n",
              "    </tr>\n",
              "    <tr>\n",
              "      <th>Precipitation(in)</th>\n",
              "      <td>92453</td>\n",
              "    </tr>\n",
              "  </tbody>\n",
              "</table>\n",
              "</div><br><label><b>dtype:</b> int64</label>"
            ]
          },
          "metadata": {},
          "execution_count": 78
        }
      ]
    },
    {
      "cell_type": "code",
      "source": [
        "#preenchendo dados nulos com o valor zero\n",
        "df[features] = df[features].fillna(0)"
      ],
      "metadata": {
        "id": "ZbwmDH2vEn9h"
      },
      "execution_count": 79,
      "outputs": []
    },
    {
      "cell_type": "code",
      "source": [
        "#verificando dados nulos em \"target\"\n",
        "target.isnull().sum()"
      ],
      "metadata": {
        "colab": {
          "base_uri": "https://localhost:8080/"
        },
        "id": "SUFUS3fwEvOe",
        "outputId": "a701c421-1718-40cf-d300-8f4aca948d3c"
      },
      "execution_count": 80,
      "outputs": [
        {
          "output_type": "execute_result",
          "data": {
            "text/plain": [
              "np.int64(0)"
            ]
          },
          "metadata": {},
          "execution_count": 80
        }
      ]
    },
    {
      "cell_type": "code",
      "source": [
        "#definido X\n",
        "X = df[features]"
      ],
      "metadata": {
        "id": "-ole73SlC6wN"
      },
      "execution_count": 81,
      "outputs": []
    },
    {
      "cell_type": "code",
      "source": [
        "#definido o y\n",
        "y = target"
      ],
      "metadata": {
        "id": "phZz5UzIDC_b"
      },
      "execution_count": 82,
      "outputs": []
    },
    {
      "cell_type": "markdown",
      "source": [
        "#3. ML"
      ],
      "metadata": {
        "id": "FYIkDVHfEJPb"
      }
    },
    {
      "cell_type": "markdown",
      "source": [
        "##3.1. Modelo inicial"
      ],
      "metadata": {
        "id": "egOv0AW1JV8_"
      }
    },
    {
      "cell_type": "code",
      "source": [
        "#separação de variáveis de treino e teste\n",
        "X_train, X_test, y_train, y_test = train_test_split(X, y, test_size=0.3, random_state=42)"
      ],
      "metadata": {
        "id": "OSWcYwDLDzfF"
      },
      "execution_count": 84,
      "outputs": []
    },
    {
      "cell_type": "code",
      "source": [
        "#criando o modelo Random Forest\n",
        "model = RandomForestClassifier(random_state=42, n_jobs=-1)\n",
        "\n",
        "#realizando o treinamento com as variáveis de treino\n",
        "model.fit(X_train, y_train)\n",
        "\n",
        "#prevendo dados nas variáveis de teste\n",
        "y_pred = model.predict(X_test)\n",
        "\n",
        "#avaliando o modelo\n",
        "print(classification_report(y_test, y_pred))"
      ],
      "metadata": {
        "colab": {
          "base_uri": "https://localhost:8080/"
        },
        "id": "WIXnBPd1Ean7",
        "outputId": "51691f0c-f770-4bd8-b4af-ba85fb58ad02"
      },
      "execution_count": 86,
      "outputs": [
        {
          "output_type": "stream",
          "name": "stdout",
          "text": [
            "              precision    recall  f1-score   support\n",
            "\n",
            "           0       0.81      0.91      0.86     22530\n",
            "           1       0.71      0.51      0.60      9873\n",
            "\n",
            "    accuracy                           0.79     32403\n",
            "   macro avg       0.76      0.71      0.73     32403\n",
            "weighted avg       0.78      0.79      0.78     32403\n",
            "\n"
          ]
        }
      ]
    },
    {
      "cell_type": "markdown",
      "source": [
        "##3.2. Modelo (com Oversampling)"
      ],
      "metadata": {
        "id": "PI2q1m8qJifZ"
      }
    },
    {
      "cell_type": "code",
      "source": [
        "#criando o oversampler\n",
        "oversampler = RandomOverSampler(random_state=42)\n",
        "\n",
        "#aplicando o oversampling (equilibra os dados, aumentando a quantidade de dados da classe minoritária)\n",
        "X_train_over, y_train_over = oversampler.fit_resample(X_train, y_train)"
      ],
      "metadata": {
        "id": "O0ov-C5qJ2FD"
      },
      "execution_count": 117,
      "outputs": []
    },
    {
      "cell_type": "code",
      "source": [
        "#comparando a quantidade de dados (aumento nos dados da classe minoritária)\n",
        "y_train_over.value_counts() - y_train.value_counts()"
      ],
      "metadata": {
        "colab": {
          "base_uri": "https://localhost:8080/",
          "height": 178
        },
        "id": "5SOzg3ubOZ9V",
        "outputId": "e1f47d76-5576-479b-cd07-fe451371d287"
      },
      "execution_count": 118,
      "outputs": [
        {
          "output_type": "execute_result",
          "data": {
            "text/plain": [
              "High_Severity\n",
              "0        0\n",
              "1    28979\n",
              "Name: count, dtype: int64"
            ],
            "text/html": [
              "<div>\n",
              "<style scoped>\n",
              "    .dataframe tbody tr th:only-of-type {\n",
              "        vertical-align: middle;\n",
              "    }\n",
              "\n",
              "    .dataframe tbody tr th {\n",
              "        vertical-align: top;\n",
              "    }\n",
              "\n",
              "    .dataframe thead th {\n",
              "        text-align: right;\n",
              "    }\n",
              "</style>\n",
              "<table border=\"1\" class=\"dataframe\">\n",
              "  <thead>\n",
              "    <tr style=\"text-align: right;\">\n",
              "      <th></th>\n",
              "      <th>count</th>\n",
              "    </tr>\n",
              "    <tr>\n",
              "      <th>High_Severity</th>\n",
              "      <th></th>\n",
              "    </tr>\n",
              "  </thead>\n",
              "  <tbody>\n",
              "    <tr>\n",
              "      <th>0</th>\n",
              "      <td>0</td>\n",
              "    </tr>\n",
              "    <tr>\n",
              "      <th>1</th>\n",
              "      <td>28979</td>\n",
              "    </tr>\n",
              "  </tbody>\n",
              "</table>\n",
              "</div><br><label><b>dtype:</b> int64</label>"
            ]
          },
          "metadata": {},
          "execution_count": 118
        }
      ]
    },
    {
      "cell_type": "code",
      "source": [
        "#constatando a proporção dos dados\n",
        "y_train_over.value_counts(normalize=True)"
      ],
      "metadata": {
        "colab": {
          "base_uri": "https://localhost:8080/",
          "height": 178
        },
        "id": "xPH7ip2-Mth_",
        "outputId": "ed9106a3-9f0e-4a0e-e80b-e6985b8299d0"
      },
      "execution_count": 119,
      "outputs": [
        {
          "output_type": "execute_result",
          "data": {
            "text/plain": [
              "High_Severity\n",
              "1    0.5\n",
              "0    0.5\n",
              "Name: proportion, dtype: float64"
            ],
            "text/html": [
              "<div>\n",
              "<style scoped>\n",
              "    .dataframe tbody tr th:only-of-type {\n",
              "        vertical-align: middle;\n",
              "    }\n",
              "\n",
              "    .dataframe tbody tr th {\n",
              "        vertical-align: top;\n",
              "    }\n",
              "\n",
              "    .dataframe thead th {\n",
              "        text-align: right;\n",
              "    }\n",
              "</style>\n",
              "<table border=\"1\" class=\"dataframe\">\n",
              "  <thead>\n",
              "    <tr style=\"text-align: right;\">\n",
              "      <th></th>\n",
              "      <th>proportion</th>\n",
              "    </tr>\n",
              "    <tr>\n",
              "      <th>High_Severity</th>\n",
              "      <th></th>\n",
              "    </tr>\n",
              "  </thead>\n",
              "  <tbody>\n",
              "    <tr>\n",
              "      <th>1</th>\n",
              "      <td>0.5</td>\n",
              "    </tr>\n",
              "    <tr>\n",
              "      <th>0</th>\n",
              "      <td>0.5</td>\n",
              "    </tr>\n",
              "  </tbody>\n",
              "</table>\n",
              "</div><br><label><b>dtype:</b> float64</label>"
            ]
          },
          "metadata": {},
          "execution_count": 119
        }
      ]
    },
    {
      "cell_type": "code",
      "source": [
        "#constatando o aumento de dados da classe minoritária comparado aos dados iniciais\n",
        "print(f\"Dados do y_train inicial: {y_train.shape} \\nDados do y_train oversampled: {y_train_over.shape}\")"
      ],
      "metadata": {
        "colab": {
          "base_uri": "https://localhost:8080/"
        },
        "id": "azDM8XukM6K9",
        "outputId": "9a9bafd6-29b3-47e8-b506-466721c363de"
      },
      "execution_count": 120,
      "outputs": [
        {
          "output_type": "stream",
          "name": "stdout",
          "text": [
            "Dados do y_train inicial: (75605,) \n",
            "Dados do y_train oversampled: (104584,)\n"
          ]
        }
      ]
    },
    {
      "cell_type": "code",
      "source": [
        "#realizando o treinamento com as variáveis de treino\n",
        "model.fit(X_train_over, y_train_over)\n",
        "\n",
        "#prevendo dados nas variáveis de teste\n",
        "y_pred_over = model.predict(X_test)\n",
        "\n",
        "#avaliando o modelo\n",
        "print(classification_report(y_test, y_pred_over))"
      ],
      "metadata": {
        "colab": {
          "base_uri": "https://localhost:8080/"
        },
        "id": "W0WZAUQjJsPI",
        "outputId": "b7148b79-02fd-4c6c-ec4a-6680a667532d"
      },
      "execution_count": 121,
      "outputs": [
        {
          "output_type": "stream",
          "name": "stdout",
          "text": [
            "              precision    recall  f1-score   support\n",
            "\n",
            "           0       0.83      0.87      0.85     22530\n",
            "           1       0.66      0.58      0.62      9873\n",
            "\n",
            "    accuracy                           0.78     32403\n",
            "   macro avg       0.74      0.73      0.73     32403\n",
            "weighted avg       0.78      0.78      0.78     32403\n",
            "\n"
          ]
        }
      ]
    },
    {
      "cell_type": "markdown",
      "source": [
        "##3.3. Modelo (com Undersampling)"
      ],
      "metadata": {
        "id": "rC7wud6NJysj"
      }
    },
    {
      "cell_type": "code",
      "source": [
        "#criando o underrsampler\n",
        "undersampler = RandomUnderSampler(random_state=42)\n",
        "\n",
        "#aplicando o underrsampling (identifica as classes minoritárias e equilibra o dados)\n",
        "X_train_under, y_train_under = undersampler.fit_resample(X_train, y_train)"
      ],
      "metadata": {
        "id": "l7vQd__6Jtzn"
      },
      "execution_count": 122,
      "outputs": []
    },
    {
      "cell_type": "code",
      "source": [
        "#comparando a quantidade de dados (redução nos dados da classe majoritária)\n",
        "y_train_under.value_counts() - y_train.value_counts()"
      ],
      "metadata": {
        "colab": {
          "base_uri": "https://localhost:8080/",
          "height": 178
        },
        "id": "sghluvihOHoL",
        "outputId": "dd6a98c3-408b-4cae-88f5-c191764a7881"
      },
      "execution_count": 124,
      "outputs": [
        {
          "output_type": "execute_result",
          "data": {
            "text/plain": [
              "High_Severity\n",
              "0   -28979\n",
              "1        0\n",
              "Name: count, dtype: int64"
            ],
            "text/html": [
              "<div>\n",
              "<style scoped>\n",
              "    .dataframe tbody tr th:only-of-type {\n",
              "        vertical-align: middle;\n",
              "    }\n",
              "\n",
              "    .dataframe tbody tr th {\n",
              "        vertical-align: top;\n",
              "    }\n",
              "\n",
              "    .dataframe thead th {\n",
              "        text-align: right;\n",
              "    }\n",
              "</style>\n",
              "<table border=\"1\" class=\"dataframe\">\n",
              "  <thead>\n",
              "    <tr style=\"text-align: right;\">\n",
              "      <th></th>\n",
              "      <th>count</th>\n",
              "    </tr>\n",
              "    <tr>\n",
              "      <th>High_Severity</th>\n",
              "      <th></th>\n",
              "    </tr>\n",
              "  </thead>\n",
              "  <tbody>\n",
              "    <tr>\n",
              "      <th>0</th>\n",
              "      <td>-28979</td>\n",
              "    </tr>\n",
              "    <tr>\n",
              "      <th>1</th>\n",
              "      <td>0</td>\n",
              "    </tr>\n",
              "  </tbody>\n",
              "</table>\n",
              "</div><br><label><b>dtype:</b> int64</label>"
            ]
          },
          "metadata": {},
          "execution_count": 124
        }
      ]
    },
    {
      "cell_type": "code",
      "source": [
        "#constatando a proporção dos dados\n",
        "y_train_under.value_counts(normalize=True)"
      ],
      "metadata": {
        "colab": {
          "base_uri": "https://localhost:8080/",
          "height": 178
        },
        "id": "9lmKiB7FN9fe",
        "outputId": "f90141e9-6a3d-4dc0-c4e0-9ab1098f258f"
      },
      "execution_count": 125,
      "outputs": [
        {
          "output_type": "execute_result",
          "data": {
            "text/plain": [
              "High_Severity\n",
              "0    0.5\n",
              "1    0.5\n",
              "Name: proportion, dtype: float64"
            ],
            "text/html": [
              "<div>\n",
              "<style scoped>\n",
              "    .dataframe tbody tr th:only-of-type {\n",
              "        vertical-align: middle;\n",
              "    }\n",
              "\n",
              "    .dataframe tbody tr th {\n",
              "        vertical-align: top;\n",
              "    }\n",
              "\n",
              "    .dataframe thead th {\n",
              "        text-align: right;\n",
              "    }\n",
              "</style>\n",
              "<table border=\"1\" class=\"dataframe\">\n",
              "  <thead>\n",
              "    <tr style=\"text-align: right;\">\n",
              "      <th></th>\n",
              "      <th>proportion</th>\n",
              "    </tr>\n",
              "    <tr>\n",
              "      <th>High_Severity</th>\n",
              "      <th></th>\n",
              "    </tr>\n",
              "  </thead>\n",
              "  <tbody>\n",
              "    <tr>\n",
              "      <th>0</th>\n",
              "      <td>0.5</td>\n",
              "    </tr>\n",
              "    <tr>\n",
              "      <th>1</th>\n",
              "      <td>0.5</td>\n",
              "    </tr>\n",
              "  </tbody>\n",
              "</table>\n",
              "</div><br><label><b>dtype:</b> float64</label>"
            ]
          },
          "metadata": {},
          "execution_count": 125
        }
      ]
    },
    {
      "cell_type": "code",
      "source": [
        "#constatando a redução de dados da classe majoritária comparado aos dados iniciais\n",
        "print(f\"Dados do y_train inicial: {y_train.shape} \\nDados do y_train undersampled: {y_train_under.shape}\")"
      ],
      "metadata": {
        "colab": {
          "base_uri": "https://localhost:8080/"
        },
        "id": "ptqyVWx1NzLp",
        "outputId": "c6fa1b8a-9ca5-4121-b0cf-2375aea5168b"
      },
      "execution_count": 126,
      "outputs": [
        {
          "output_type": "stream",
          "name": "stdout",
          "text": [
            "Dados do y_train inicial: (75605,) \n",
            "Dados do y_train undersampled: (46626,)\n"
          ]
        }
      ]
    },
    {
      "cell_type": "code",
      "source": [
        "#realizando o treinamento com as variáveis de treino\n",
        "model.fit(X_train_under, y_train_under)\n",
        "\n",
        "#prevendo dados nas variáveis de teste\n",
        "y_pred_under = model.predict(X_test)\n",
        "\n",
        "#avaliando o modelo\n",
        "print(classification_report(y_test, y_pred_under))"
      ],
      "metadata": {
        "colab": {
          "base_uri": "https://localhost:8080/"
        },
        "id": "9K9oqQtoJtrV",
        "outputId": "6a90d2d9-d0cc-4d74-a80d-be193f6141cd"
      },
      "execution_count": 123,
      "outputs": [
        {
          "output_type": "stream",
          "name": "stdout",
          "text": [
            "              precision    recall  f1-score   support\n",
            "\n",
            "           0       0.86      0.71      0.78     22530\n",
            "           1       0.53      0.75      0.62      9873\n",
            "\n",
            "    accuracy                           0.72     32403\n",
            "   macro avg       0.70      0.73      0.70     32403\n",
            "weighted avg       0.76      0.72      0.73     32403\n",
            "\n"
          ]
        }
      ]
    },
    {
      "cell_type": "markdown",
      "source": [
        "##3.4. SMOTE\n",
        "\n",
        "Synthetic Minority Oversampling Technique"
      ],
      "metadata": {
        "id": "t8MR1F2b_G6_"
      }
    },
    {
      "cell_type": "code",
      "source": [],
      "metadata": {
        "id": "3NBE5RNeQO5h"
      },
      "execution_count": null,
      "outputs": []
    },
    {
      "cell_type": "code",
      "source": [],
      "metadata": {
        "id": "k7FlKPDGQQnI"
      },
      "execution_count": null,
      "outputs": []
    },
    {
      "cell_type": "code",
      "source": [],
      "metadata": {
        "id": "5sRttGAZQQk_"
      },
      "execution_count": null,
      "outputs": []
    }
  ]
}